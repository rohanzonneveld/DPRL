{
 "cells": [
  {
   "cell_type": "code",
   "execution_count": 2,
   "metadata": {},
   "outputs": [],
   "source": [
    "import numpy as np"
   ]
  },
  {
   "cell_type": "code",
   "execution_count": 3,
   "metadata": {},
   "outputs": [
    {
     "data": {
      "text/plain": [
       "array([0.1 , 0.11, 0.12, 0.13, 0.14, 0.15, 0.16, 0.17, 0.18, 0.19, 0.2 ,\n",
       "       0.21, 0.22, 0.23, 0.24, 0.25, 0.26, 0.27, 0.28, 0.29, 0.3 , 0.31,\n",
       "       0.32, 0.33, 0.34, 0.35, 0.36, 0.37, 0.38, 0.39, 0.4 , 0.41, 0.42,\n",
       "       0.43, 0.44, 0.45, 0.46, 0.47, 0.48, 0.49, 0.5 , 0.51, 0.52, 0.53,\n",
       "       0.54, 0.55, 0.56, 0.57, 0.58, 0.59, 0.6 , 0.61, 0.62, 0.63, 0.64,\n",
       "       0.65, 0.66, 0.67, 0.68, 0.69, 0.7 , 0.71, 0.72, 0.73, 0.74, 0.75,\n",
       "       0.76, 0.77, 0.78, 0.79, 0.8 , 0.81, 0.82, 0.83, 0.84, 0.85, 0.86,\n",
       "       0.87, 0.88, 0.89, 0.9 , 0.91, 0.92, 0.93, 0.94, 0.95, 0.96, 0.97,\n",
       "       0.98, 0.99, 1.  ])"
      ]
     },
     "execution_count": 3,
     "metadata": {},
     "output_type": "execute_result"
    }
   ],
   "source": [
    "# create states\n",
    "x = np.arange(0.10, 1.01, 0.01)\n",
    "x"
   ]
  },
  {
   "cell_type": "markdown",
   "metadata": {},
   "source": [
    "The transition of a state 91 to i is given by:\n",
    "\n",
    "\n",
    "$$ \\frac{1}{\\prod_{i=1}^{90} (1 - x_i)} = \\frac{1}{P}$$\n",
    "\n",
    "where $ x_i $ are the elements of the array.\n"
   ]
  },
  {
   "cell_type": "code",
   "execution_count": 4,
   "metadata": {},
   "outputs": [
    {
     "data": {
      "text/plain": [
       "array([1.48571596e-42, 1.65079552e-42, 1.85482642e-42, 2.10775730e-42,\n",
       "       2.42270954e-42, 2.81710411e-42, 3.31424013e-42, 3.94552397e-42,\n",
       "       4.75364334e-42, 5.79712602e-42, 7.15694570e-42, 8.94618213e-42,\n",
       "       1.13242812e-41, 1.45183092e-41, 1.88549470e-41, 2.48091408e-41,\n",
       "       3.30788544e-41, 4.47011546e-41, 6.12344584e-41, 8.50478589e-41,\n",
       "       1.19785717e-40, 1.71122452e-40, 2.48003554e-40, 3.64711109e-40,\n",
       "       5.44344939e-40, 8.24765059e-40, 1.26886932e-39, 1.98260832e-39,\n",
       "       3.14699733e-39, 5.07580214e-39, 8.32098711e-39, 1.38683119e-38,\n",
       "       2.35056133e-38, 4.05269195e-38, 7.10998588e-38, 1.26964034e-37,\n",
       "       2.30843697e-37, 4.27488328e-37, 8.06581752e-37, 1.55111875e-36,\n",
       "       3.04140932e-36, 6.08281864e-36, 1.24139156e-35, 2.58623242e-35,\n",
       "       5.50262216e-35, 1.19622221e-34, 2.65827157e-34, 6.04152631e-34,\n",
       "       1.40500612e-33, 3.34525266e-33, 8.15915283e-33, 2.03978821e-32,\n",
       "       5.23022617e-32, 1.37637531e-31, 3.71993327e-31, 1.03331480e-30,\n",
       "       2.95232799e-30, 8.68331762e-30, 2.63130837e-29, 8.22283865e-29,\n",
       "       2.65252860e-28, 8.84176199e-28, 3.04888345e-27, 1.08888695e-26,\n",
       "       4.03291461e-26, 1.55112100e-25, 6.20448402e-25, 2.58520167e-24,\n",
       "       1.12400073e-23, 5.10909422e-23, 2.43290201e-22, 1.21645100e-21,\n",
       "       6.40237371e-21, 3.55687428e-20, 2.09227899e-19, 1.30767437e-18,\n",
       "       8.71782912e-18, 6.22702080e-17, 4.79001600e-16, 3.99168000e-15,\n",
       "       3.62880000e-14, 3.62880000e-13, 4.03200000e-12, 5.04000000e-11,\n",
       "       7.20000000e-10, 1.20000000e-08, 2.40000000e-07, 6.00000000e-06,\n",
       "       2.00000000e-04, 1.00000000e-02])"
      ]
     },
     "execution_count": 4,
     "metadata": {},
     "output_type": "execute_result"
    }
   ],
   "source": [
    "\n",
    "# create transition matrix\n",
    "P = np.array([np.prod(x) for x in [1 - x[i:90] for i in range(90)]]) \n",
    "P"
   ]
  },
  {
   "cell_type": "markdown",
   "metadata": {},
   "source": [
    "See report for detailed explanation. We implement this formula:\n",
    "\n",
    "$$ \\pi(91) = \\frac{1}{\\sum_{i=1}^{90} \\frac{1}{\\Pi_{j=i}^{90} (1-x(j))}} $$"
   ]
  },
  {
   "cell_type": "code",
   "execution_count": 5,
   "metadata": {},
   "outputs": [
    {
     "data": {
      "text/plain": [
       "2.1705945012865532e-43"
      ]
     },
     "execution_count": 5,
     "metadata": {},
     "output_type": "execute_result"
    }
   ],
   "source": [
    "# calculate pi_91\n",
    "pi_91 = 1/np.sum(1/P)\n",
    "pi_91"
   ]
  },
  {
   "cell_type": "markdown",
   "metadata": {},
   "source": [
    "Then we find all values of $\\pi$ by:\n",
    "\n",
    "$$ \\pi(i) = \\frac{\\pi(91)}{\\Pi_{j=i}^{90}(1-x(j))} $$"
   ]
  },
  {
   "cell_type": "code",
   "execution_count": 6,
   "metadata": {},
   "outputs": [
    {
     "data": {
      "text/plain": [
       "array([1.46097542e-01, 1.31487788e-01, 1.17024131e-01, 1.02981235e-01,\n",
       "       8.95936746e-02, 7.70505602e-02, 6.54929762e-02, 5.50141000e-02,\n",
       "       4.56617030e-02, 3.74425964e-02, 3.03285031e-02, 2.42628025e-02,\n",
       "       1.91676140e-02, 1.49507389e-02, 1.15120690e-02, 8.74917240e-03,\n",
       "       6.56187930e-03, 4.85579068e-03, 3.54472720e-03, 2.55220358e-03,\n",
       "       1.81206454e-03, 1.26844518e-03, 8.75227175e-04, 5.95154479e-04,\n",
       "       3.98753501e-04, 2.63177311e-04, 1.71065252e-04, 1.09481761e-04,\n",
       "       6.89735096e-05, 4.27635759e-05, 2.60857813e-05, 1.56514688e-05,\n",
       "       9.23436658e-06, 5.35593262e-06, 3.05288159e-06, 1.70961369e-06,\n",
       "       9.40287531e-07, 5.07755267e-07, 2.69110291e-07, 1.39937351e-07,\n",
       "       7.13680492e-08, 3.56840246e-08, 1.74851721e-08, 8.39288259e-09,\n",
       "       3.94465482e-09, 1.81454122e-09, 8.16543547e-10, 3.59279161e-10,\n",
       "       1.54490039e-10, 6.48858164e-11, 2.66031847e-11, 1.06412739e-11,\n",
       "       4.15009682e-12, 1.57703679e-12, 5.83503613e-13, 2.10061301e-13,\n",
       "       7.35214552e-14, 2.49972948e-14, 8.24910728e-15, 2.63971433e-15,\n",
       "       8.18311442e-16, 2.45493433e-16, 7.11930954e-17, 1.99340667e-17,\n",
       "       5.38219801e-18, 1.39937148e-18, 3.49842871e-19, 8.39622890e-20,\n",
       "       1.93113265e-20, 4.24849182e-21, 8.92183283e-22, 1.78436657e-22,\n",
       "       3.39029648e-23, 6.10253366e-24, 1.03743072e-24, 1.65988915e-25,\n",
       "       2.48983373e-26, 3.48576722e-27, 4.53149739e-28, 5.43779687e-29,\n",
       "       5.98157656e-30, 5.98157656e-31, 5.38341890e-32, 4.30673512e-33,\n",
       "       3.01471459e-34, 1.80882875e-35, 9.04414376e-37, 3.61765750e-38,\n",
       "       1.08529725e-39, 2.17059450e-41])"
      ]
     },
     "execution_count": 6,
     "metadata": {},
     "output_type": "execute_result"
    }
   ],
   "source": [
    "# calculate all values of pi\n",
    "pi = pi_91 / P\n",
    "pi"
   ]
  },
  {
   "cell_type": "code",
   "execution_count": 20,
   "metadata": {},
   "outputs": [
    {
     "data": {
      "text/plain": [
       "Text(0, 0.5, 'density')"
      ]
     },
     "execution_count": 20,
     "metadata": {},
     "output_type": "execute_result"
    },
    {
     "data": {
      "image/png": "[encoded data removed]",
      "text/plain": [
       "<Figure size 640x480 with 1 Axes>"
      ]
     },
     "metadata": {},
     "output_type": "display_data"
    }
   ],
   "source": [
    "# plot pi with value on y and state on x\n",
    "import matplotlib.pyplot as plt\n",
    "plt.plot(range(1,91),pi)\n",
    "plt.xticks(range(1,92,10))\n",
    "plt.yticks(np.arange(0,0.146,0.02))\n",
    "plt.xlabel('$\\pi^*(x)$')\n",
    "plt.ylabel('density')\n"
   ]
  },
  {
   "cell_type": "code",
   "execution_count": 7,
   "metadata": {},
   "outputs": [
    {
     "data": {
      "text/plain": [
       "0.9999999999999999"
      ]
     },
     "execution_count": 7,
     "metadata": {},
     "output_type": "execute_result"
    }
   ],
   "source": [
    "# check if all probabilities sum to 1\n",
    "np.sum(pi)"
   ]
  },
  {
   "cell_type": "code",
   "execution_count": 8,
   "metadata": {},
   "outputs": [
    {
     "data": {
      "text/plain": [
       "0.14609754173593137"
      ]
     },
     "execution_count": 8,
     "metadata": {},
     "output_type": "execute_result"
    }
   ],
   "source": [
    "# get value for long-run average (pi_1)\n",
    "pi[0]"
   ]
  }
 ],
 "metadata": {
  "kernelspec": {
   "display_name": "Python 3",
   "language": "python",
   "name": "python3"
  },
  "language_info": {
   "codemirror_mode": {
    "name": "ipython",
    "version": 3
   },
   "file_extension": ".py",
   "mimetype": "text/x-python",
   "name": "python",
   "nbconvert_exporter": "python",
   "pygments_lexer": "ipython3",
   "version": "3.10.7"
  }
 },
 "nbformat": 4,
 "nbformat_minor": 2
}
